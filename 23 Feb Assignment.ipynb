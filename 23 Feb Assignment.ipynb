{
 "cells": [
  {
   "cell_type": "markdown",
   "id": "08a54fc0",
   "metadata": {},
   "source": [
    "# Q1. Create a Pandas Series that contains the following data: 4, 8, 15, 16, 23, and 42. Then, print the series."
   ]
  },
  {
   "cell_type": "code",
   "execution_count": 1,
   "id": "010bcd15",
   "metadata": {},
   "outputs": [],
   "source": [
    "import pandas as pd\n",
    "import logging"
   ]
  },
  {
   "cell_type": "code",
   "execution_count": 2,
   "id": "1725f020",
   "metadata": {},
   "outputs": [],
   "source": [
    "logging.basicConfig(filename = 'pandas.log', level = logging.DEBUG, format = '%(asctime)s %(message)s' )\n",
    "s = pd.Series(data = [4,8,15,16,23])\n"
   ]
  },
  {
   "cell_type": "markdown",
   "id": "0bd20559",
   "metadata": {},
   "source": [
    "# Q2. Create a variable of list type containing 10 elements in it, and apply pandas.Series function on the variable print it."
   ]
  },
  {
   "cell_type": "code",
   "execution_count": 3,
   "id": "c6044248",
   "metadata": {},
   "outputs": [
    {
     "name": "stdout",
     "output_type": "stream",
     "text": [
      "0     9\n",
      "1     8\n",
      "2     7\n",
      "3     6\n",
      "4     5\n",
      "5     4\n",
      "6     3\n",
      "7    21\n",
      "8     0\n",
      "9     2\n",
      "dtype: int64\n"
     ]
    }
   ],
   "source": [
    "l = [9,8,7,6,5,4,3,21,0,2]\n",
    "s1 = pd.Series(l)\n",
    "logging.info(f'printing the serise\\n{s1}')\n",
    "print(s1)"
   ]
  },
  {
   "cell_type": "markdown",
   "id": "4fb5ae7b",
   "metadata": {},
   "source": [
    "# Q3. Create a Pandas DataFrame that contains the following data:\n",
    "<img src = 'Screenshot 2023-02-26 190619.png'>"
   ]
  },
  {
   "cell_type": "code",
   "execution_count": 4,
   "id": "f69077ea",
   "metadata": {},
   "outputs": [
    {
     "data": {
      "text/html": [
       "<div>\n",
       "<style scoped>\n",
       "    .dataframe tbody tr th:only-of-type {\n",
       "        vertical-align: middle;\n",
       "    }\n",
       "\n",
       "    .dataframe tbody tr th {\n",
       "        vertical-align: top;\n",
       "    }\n",
       "\n",
       "    .dataframe thead th {\n",
       "        text-align: right;\n",
       "    }\n",
       "</style>\n",
       "<table border=\"1\" class=\"dataframe\">\n",
       "  <thead>\n",
       "    <tr style=\"text-align: right;\">\n",
       "      <th></th>\n",
       "      <th>Name</th>\n",
       "      <th>Age</th>\n",
       "      <th>Gender</th>\n",
       "    </tr>\n",
       "  </thead>\n",
       "  <tbody>\n",
       "    <tr>\n",
       "      <th>0</th>\n",
       "      <td>Alice</td>\n",
       "      <td>25</td>\n",
       "      <td>Female</td>\n",
       "    </tr>\n",
       "    <tr>\n",
       "      <th>1</th>\n",
       "      <td>Bob</td>\n",
       "      <td>30</td>\n",
       "      <td>Male</td>\n",
       "    </tr>\n",
       "    <tr>\n",
       "      <th>2</th>\n",
       "      <td>Claire</td>\n",
       "      <td>27</td>\n",
       "      <td>Female</td>\n",
       "    </tr>\n",
       "  </tbody>\n",
       "</table>\n",
       "</div>"
      ],
      "text/plain": [
       "     Name  Age  Gender\n",
       "0   Alice   25  Female\n",
       "1     Bob   30    Male\n",
       "2  Claire   27  Female"
      ]
     },
     "execution_count": 4,
     "metadata": {},
     "output_type": "execute_result"
    }
   ],
   "source": [
    "d = pd.DataFrame(data = {'Name':['Alice','Bob','Claire'],'Age':[25,30,27],'Gender':['Female','Male','Female']})\n",
    "logging.info(f'Printing The DataFrame\\n{d}')\n",
    "d"
   ]
  },
  {
   "cell_type": "markdown",
   "id": "44e01f71",
   "metadata": {},
   "source": [
    "# Q4. What is ‘DataFrame’ in pandas and how is it different from pandas.series? Explain with an example.\n",
    "## Answer :-In pandas, a DataFrame is a two-dimensional tabular data structure, which consists of rows and columns, where each column can contain different data types (e.g., string, numeric, boolean). It is similar to a spreadsheet or a SQL table.\n",
    "\n",
    "## On the other hand, a pandas.Series is a one-dimensional array-like object, which can contain any data type (e.g., string, numeric, boolean, datetime), and is labeled with an index. It can be thought of as a single column in a DataFrame."
   ]
  },
  {
   "cell_type": "code",
   "execution_count": 5,
   "id": "426ab55a",
   "metadata": {},
   "outputs": [
    {
     "data": {
      "text/html": [
       "<div>\n",
       "<style scoped>\n",
       "    .dataframe tbody tr th:only-of-type {\n",
       "        vertical-align: middle;\n",
       "    }\n",
       "\n",
       "    .dataframe tbody tr th {\n",
       "        vertical-align: top;\n",
       "    }\n",
       "\n",
       "    .dataframe thead th {\n",
       "        text-align: right;\n",
       "    }\n",
       "</style>\n",
       "<table border=\"1\" class=\"dataframe\">\n",
       "  <thead>\n",
       "    <tr style=\"text-align: right;\">\n",
       "      <th></th>\n",
       "      <th>Name</th>\n",
       "      <th>Age</th>\n",
       "      <th>GPA</th>\n",
       "    </tr>\n",
       "  </thead>\n",
       "  <tbody>\n",
       "    <tr>\n",
       "      <th>0</th>\n",
       "      <td>Alice</td>\n",
       "      <td>20</td>\n",
       "      <td>3.5</td>\n",
       "    </tr>\n",
       "    <tr>\n",
       "      <th>1</th>\n",
       "      <td>Bob</td>\n",
       "      <td>19</td>\n",
       "      <td>3.2</td>\n",
       "    </tr>\n",
       "    <tr>\n",
       "      <th>2</th>\n",
       "      <td>Charlie</td>\n",
       "      <td>21</td>\n",
       "      <td>3.8</td>\n",
       "    </tr>\n",
       "    <tr>\n",
       "      <th>3</th>\n",
       "      <td>Dave</td>\n",
       "      <td>18</td>\n",
       "      <td>3.4</td>\n",
       "    </tr>\n",
       "    <tr>\n",
       "      <th>4</th>\n",
       "      <td>Emily</td>\n",
       "      <td>20</td>\n",
       "      <td>3.6</td>\n",
       "    </tr>\n",
       "  </tbody>\n",
       "</table>\n",
       "</div>"
      ],
      "text/plain": [
       "      Name  Age  GPA\n",
       "0    Alice   20  3.5\n",
       "1      Bob   19  3.2\n",
       "2  Charlie   21  3.8\n",
       "3     Dave   18  3.4\n",
       "4    Emily   20  3.6"
      ]
     },
     "execution_count": 5,
     "metadata": {},
     "output_type": "execute_result"
    }
   ],
   "source": [
    "data = {'Name': ['Alice', 'Bob', 'Charlie', 'Dave', 'Emily'],\n",
    "        'Age': [20, 19, 21, 18, 20],\n",
    "        'GPA': [3.5, 3.2, 3.8, 3.4, 3.6]}\n",
    "\n",
    "df = pd.DataFrame(data = {'Name': ['Alice', 'Bob', 'Charlie', 'Dave', 'Emily'],'Age': [20, 19, 21, 18, 20],'GPA': [3.5, 3.2, 3.8, 3.4, 3.6]} )\n",
    "df"
   ]
  },
  {
   "cell_type": "code",
   "execution_count": 6,
   "id": "26ff547e",
   "metadata": {},
   "outputs": [
    {
     "data": {
      "text/plain": [
       "0      Alice\n",
       "1        Bob\n",
       "2    Charlie\n",
       "3       Dave\n",
       "4      Emily\n",
       "Name: Name, dtype: object"
      ]
     },
     "execution_count": 6,
     "metadata": {},
     "output_type": "execute_result"
    }
   ],
   "source": [
    "series = df['Name']\n",
    "series"
   ]
  },
  {
   "cell_type": "code",
   "execution_count": 7,
   "id": "52b531bf",
   "metadata": {},
   "outputs": [],
   "source": [
    "logging.info(f'Printing Example of the DataFrame and Series\\n{df} \\n\\n{series}')"
   ]
  },
  {
   "cell_type": "markdown",
   "id": "6a160473",
   "metadata": {},
   "source": [
    "# Q5. What are some common functions you can use to manipulate data in a Pandas DataFrame? Can you give an example of when you might use one of these functions?\n",
    "\n",
    "## Answer:- There are some functions like mean(), std() etc. "
   ]
  },
  {
   "cell_type": "code",
   "execution_count": 8,
   "id": "7bf45722",
   "metadata": {},
   "outputs": [
    {
     "name": "stdout",
     "output_type": "stream",
     "text": [
      "19.6\n"
     ]
    }
   ],
   "source": [
    "# I use mean function when i want to know the mean value of the column\n",
    "mean = df['Age'].mean()\n",
    "print(mean)\n",
    "logging.info(f'Printing Example of the DataFrame function=>{mean}')"
   ]
  },
  {
   "cell_type": "markdown",
   "id": "01ec52c7",
   "metadata": {},
   "source": [
    "# Q6. Which of the following is mutable in nature Series, DataFrame, Panel?\n",
    "## Answer:- In pandas, both Series and DataFrame are mutable objects, while Panel is deprecated and no longer recommended to use."
   ]
  },
  {
   "cell_type": "code",
   "execution_count": 9,
   "id": "cb91750b",
   "metadata": {},
   "outputs": [],
   "source": [
    "logging.info('In pandas, both Series and DataFrame are mutable objects')"
   ]
  },
  {
   "cell_type": "markdown",
   "id": "29ab1b84",
   "metadata": {},
   "source": [
    "# Q7. Create a DataFrame using multiple Series. Explain with an example."
   ]
  },
  {
   "cell_type": "code",
   "execution_count": 10,
   "id": "c8d126f1",
   "metadata": {},
   "outputs": [
    {
     "name": "stdout",
     "output_type": "stream",
     "text": [
      "      Name  Age  Salary\n",
      "0    Alice   25   50000\n",
      "1      Bob   30   60000\n",
      "2  Charlie   35   70000\n"
     ]
    }
   ],
   "source": [
    "names = pd.Series(['Alice', 'Bob', 'Charlie'])\n",
    "ages = pd.Series([25, 30, 35])\n",
    "salaries = pd.Series([50000, 60000, 70000])\n",
    "\n",
    "# Creating a dictionary of Series\n",
    "data = {'Name': names, 'Age': ages, 'Salary': salaries}\n",
    "\n",
    "# Creating a DataFrame from the dictionary of Series\n",
    "df1 = pd.DataFrame(data)\n",
    "\n",
    "print(df1)\n",
    "logging.info(f'Printing Example of the DataFrame created from\\n{df1}')"
   ]
  },
  {
   "cell_type": "code",
   "execution_count": null,
   "id": "7959cd9d",
   "metadata": {},
   "outputs": [],
   "source": []
  },
  {
   "cell_type": "code",
   "execution_count": null,
   "id": "3c3dc4ed",
   "metadata": {},
   "outputs": [],
   "source": []
  }
 ],
 "metadata": {
  "kernelspec": {
   "display_name": "Python 3 (ipykernel)",
   "language": "python",
   "name": "python3"
  },
  "language_info": {
   "codemirror_mode": {
    "name": "ipython",
    "version": 3
   },
   "file_extension": ".py",
   "mimetype": "text/x-python",
   "name": "python",
   "nbconvert_exporter": "python",
   "pygments_lexer": "ipython3",
   "version": "3.9.12"
  }
 },
 "nbformat": 4,
 "nbformat_minor": 5
}
